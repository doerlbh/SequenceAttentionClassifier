{
 "cells": [
  {
   "cell_type": "markdown",
   "metadata": {},
   "source": [
    "## Baihan Lin, Rabadan Lab, Columbia University"
   ]
  },
  {
   "cell_type": "code",
   "execution_count": 2,
   "metadata": {},
   "outputs": [],
   "source": [
    "%matplotlib inline"
   ]
  },
  {
   "cell_type": "code",
   "execution_count": 3,
   "metadata": {},
   "outputs": [],
   "source": [
    "import matplotlib\n",
    "import numpy as np\n",
    "import matplotlib.pyplot as plt\n",
    "\n",
    "import torch\n",
    "import torch.nn as nn\n",
    "from torchvision import datasets\n",
    "import torchvision.transforms as transforms\n",
    "from torch.autograd import Variable\n"
   ]
  },
  {
   "cell_type": "code",
   "execution_count": null,
   "metadata": {},
   "outputs": [],
   "source": [
    "p = 205437 \n",
    "n = 100\n",
    "d = 20\n",
    "m = 10\n",
    "\n",
    "Q = 0*np.ndarray((m,d,4))\n",
    "K = 0*np.ndarray((p,d,4))\n",
    "V = 0*np.ndarray((p,d,4))\n"
   ]
  },
  {
   "cell_type": "code",
   "execution_count": 4,
   "metadata": {},
   "outputs": [
    {
     "name": "stdout",
     "output_type": "stream",
     "text": [
      "Downloading http://yann.lecun.com/exdb/mnist/train-images-idx3-ubyte.gz\n",
      "Downloading http://yann.lecun.com/exdb/mnist/train-labels-idx1-ubyte.gz\n",
      "Downloading http://yann.lecun.com/exdb/mnist/t10k-images-idx3-ubyte.gz\n",
      "Downloading http://yann.lecun.com/exdb/mnist/t10k-labels-idx1-ubyte.gz\n",
      "Processing...\n",
      "Done!\n"
     ]
    }
   ],
   "source": [
    "# Hyperparameters\n",
    "input_size = 784  # Our images are 28px by 28px in size\n",
    "num_classes = 10  # We have handwritten digits from 0 - 9\n",
    "num_epochs = 5  # Number of epochs\n",
    "batch_size = 100  # Batch size\n",
    "learning_rate = 0.001  # Learning rate\n",
    "\n",
    "transfm = transforms.ToTensor()  # Transform the dataset objects to tensors\n",
    "\n",
    "# MNIST dataset - images and labels\n",
    "train_dataset = datasets.MNIST(root='./data',\n",
    "                               train=True,\n",
    "                               transform=transfm,\n",
    "                               download=True)\n",
    "\n",
    "test_dataset = datasets.MNIST(root='./data',\n",
    "                              train=False,\n",
    "                              transform=transfm)\n",
    "\n",
    "# Input pipeline\n",
    "train_loader = torch.utils.data.DataLoader(dataset=train_dataset,\n",
    "                                           batch_size=batch_size,\n",
    "                                           shuffle=True)\n",
    "\n",
    "test_loader = torch.utils.data.DataLoader(dataset=test_dataset,\n",
    "                                          batch_size=batch_size,\n",
    "                                          shuffle=True)\n"
   ]
  },
  {
   "cell_type": "code",
   "execution_count": 5,
   "metadata": {},
   "outputs": [],
   "source": [
    "class LogisticRegression(nn.Module):\n",
    "    def __init__(self, input_size, num_classes):\n",
    "        super().__init__()\n",
    "        self.linear = nn.Linear(input_size, num_classes)\n",
    "        \n",
    "    def forward(self, x):\n",
    "        y_hat = self.linear(x)\n",
    "        return y_hat"
   ]
  },
  {
   "cell_type": "code",
   "execution_count": 6,
   "metadata": {},
   "outputs": [],
   "source": [
    "model = LogisticRegression(input_size, num_classes)\n",
    "criterion = nn.CrossEntropyLoss()\n",
    "optimizer = torch.optim.SGD(model.parameters(), lr=learning_rate)"
   ]
  },
  {
   "cell_type": "code",
   "execution_count": 7,
   "metadata": {},
   "outputs": [
    {
     "name": "stdout",
     "output_type": "stream",
     "text": [
      "Epoch 1, loss :2.267711639404297\n",
      "Epoch 1, loss :2.148483991622925\n",
      "Epoch 1, loss :2.058659076690674\n",
      "Epoch 1, loss :1.9498668909072876\n",
      "Epoch 1, loss :1.8805489540100098\n",
      "Epoch 1, loss :1.7623120546340942\n",
      "Epoch 2, loss :1.6965137720108032\n",
      "Epoch 2, loss :1.6472450494766235\n",
      "Epoch 2, loss :1.622676968574524\n",
      "Epoch 2, loss :1.5895267724990845\n",
      "Epoch 2, loss :1.5569528341293335\n",
      "Epoch 2, loss :1.45692777633667\n",
      "Epoch 3, loss :1.506378173828125\n",
      "Epoch 3, loss :1.4878369569778442\n",
      "Epoch 3, loss :1.3821254968643188\n",
      "Epoch 3, loss :1.309884786605835\n",
      "Epoch 3, loss :1.2609459161758423\n",
      "Epoch 3, loss :1.2971638441085815\n",
      "Epoch 4, loss :1.2796509265899658\n",
      "Epoch 4, loss :1.1881992816925049\n",
      "Epoch 4, loss :1.2206101417541504\n",
      "Epoch 4, loss :1.087363839149475\n",
      "Epoch 4, loss :1.2598435878753662\n",
      "Epoch 4, loss :1.2453800439834595\n",
      "Epoch 5, loss :1.153346061706543\n",
      "Epoch 5, loss :1.0692975521087646\n",
      "Epoch 5, loss :1.0982111692428589\n",
      "Epoch 5, loss :1.036110758781433\n",
      "Epoch 5, loss :1.034468412399292\n",
      "Epoch 5, loss :0.8742131590843201\n"
     ]
    }
   ],
   "source": [
    "# Training the model\n",
    "for epoch in range(num_epochs):\n",
    "    for i, (images, labels) in enumerate(train_loader):\n",
    "        images = Variable(images.view(-1, 28 * 28))  # Images flattened into 1D tensors\n",
    "        labels = Variable(labels)  # Labels \n",
    "        \n",
    "        # Forward -> Backprop -> Optimize\n",
    "        optimizer.zero_grad()  # Manually zero the gradient buffers\n",
    "        outputs = model(images)  # Predict the class using the test set\n",
    "        loss = criterion(outputs, labels)  # Compute the loss given the predicted label\n",
    "                                           # and actual label\n",
    "        \n",
    "        loss.backward()  # Compute the error gradients\n",
    "        optimizer.step()  # Optimize the model via Stochastic Gradient Descent\n",
    "        \n",
    "        if (i + 1) % 100 == 0:\n",
    "            print(\"Epoch {}, loss :{}\".format(epoch + 1, loss.data[0]))"
   ]
  },
  {
   "cell_type": "code",
   "execution_count": 8,
   "metadata": {},
   "outputs": [
    {
     "name": "stdout",
     "output_type": "stream",
     "text": [
      "Accuracy: 82.57%\n"
     ]
    }
   ],
   "source": [
    "# Test the Model\n",
    "correct = 0\n",
    "total = 0\n",
    "for images, labels in test_loader:\n",
    "    images = Variable(images.view(-1, 28 * 28))\n",
    "    outputs = model(images)\n",
    "    _, predicted = torch.max(outputs.data, 1)\n",
    "    total += labels.size(0)\n",
    "    correct += (predicted == labels).sum()\n",
    " \n",
    "print('Accuracy: {}%'.format(100 * correct / total))"
   ]
  },
  {
   "cell_type": "code",
   "execution_count": null,
   "metadata": {},
   "outputs": [],
   "source": []
  }
 ],
 "metadata": {
  "kernelspec": {
   "display_name": "Python3 (mlenv)",
   "language": "python",
   "name": "mlenv"
  },
  "language_info": {
   "codemirror_mode": {
    "name": "ipython",
    "version": 3
   },
   "file_extension": ".py",
   "mimetype": "text/x-python",
   "name": "python",
   "nbconvert_exporter": "python",
   "pygments_lexer": "ipython3",
   "version": "3.6.5"
  }
 },
 "nbformat": 4,
 "nbformat_minor": 2
}
