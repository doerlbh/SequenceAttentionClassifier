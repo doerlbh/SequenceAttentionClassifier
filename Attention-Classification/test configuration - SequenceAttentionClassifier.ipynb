{
 "cells": [
  {
   "cell_type": "markdown",
   "metadata": {},
   "source": [
    "### Notebook to configure model"
   ]
  },
  {
   "cell_type": "code",
   "execution_count": 31,
   "metadata": {},
   "outputs": [],
   "source": [
    "import time\n",
    "import math\n",
    "import copy\n",
    "\n",
    "import numpy as np\n",
    "import pandas as pd\n",
    "\n",
    "import matplotlib\n",
    "import matplotlib.pyplot as plt\n",
    "\n",
    "import seaborn as sns\n",
    "sns.set_context(context=\"talk\")\n",
    "\n",
    "import torch\n",
    "import torch.nn as nn\n",
    "import tensorflow as tf\n",
    "import torch.nn.functional as F\n",
    "from torchvision import datasets\n",
    "import torchvision.transforms as transforms\n",
    "from torch.autograd import Variable\n",
    "from torch.utils import data\n"
   ]
  },
  {
   "cell_type": "code",
   "execution_count": 32,
   "metadata": {},
   "outputs": [],
   "source": [
    "# Hyperparameter\n",
    "\n",
    "QUERY_SIZE = 10\n",
    "EMBEDDING_SIZE = 100\n",
    "\n",
    "# HIDDEN_SIZE = 512\n",
    "# ATTENTION_SIZE = 64\n",
    "\n",
    "LEARNING_RATE = 1e-3\n",
    "BATCH_SIZE = 500\n",
    "\n",
    "VOCAB_SIZE = 5\n",
    "NUM_CLASSES = 2\n",
    "\n",
    "# Data-specific\n",
    "\n",
    "READ_LENGTH = 100\n",
    "\n",
    "GENOME_START = 140719327\n",
    "GENOME_END = 140924764\n",
    "\n",
    "GENOME_LENGTH = GENOME_END - GENOME_START + 1\n",
    "CONTEXT_SIZE = GENOME_LENGTH\n",
    "\n",
    "ref_names = [\"class\", \"ref\", \"sequence\"]\n"
   ]
  },
  {
   "cell_type": "code",
   "execution_count": 33,
   "metadata": {},
   "outputs": [],
   "source": [
    "def load_ref_data(file_name, sample_ratio= 1, n_class=2, names=ref_names):\n",
    "    \n",
    "    csv_file = pd.read_csv(file_name, names=ref_names)\n",
    "    shuffle_csv = csv_file.sample(frac=sample_ratio).reset_index()\n",
    "#     x = pd.Series(shuffle_csv[\"sequence\"])\n",
    "    x = list(shuffle_csv[\"sequence\"])\n",
    "#     ref = pd.Series(shuffle_csv[\"ref\"])\n",
    "    ref = list(shuffle_csv[\"ref\"])\n",
    "    y = pd.Series(shuffle_csv[\"class\"])\n",
    "    y = to_one_hot(y, n_class)\n",
    "    print(y.shape)\n",
    "#     print(type(x))\n",
    "#     print(type(y))\n",
    "#     print(type(ref))\n",
    "\n",
    "    return x, ref, y\n"
   ]
  },
  {
   "cell_type": "code",
   "execution_count": 34,
   "metadata": {},
   "outputs": [],
   "source": [
    "def to_one_hot(y, n_class):\n",
    "    \n",
    "    return np.eye(n_class)[y.astype(int)]\n"
   ]
  },
  {
   "cell_type": "code",
   "execution_count": 35,
   "metadata": {},
   "outputs": [],
   "source": [
    "def split_ref_dataset(x_test, y_test, ref_test, dev_ratio):\n",
    "\n",
    "    test_size = len(x_test)\n",
    "    print(test_size)\n",
    "    dev_size = (int)(test_size * dev_ratio)\n",
    "    print(dev_size)\n",
    "\n",
    "    x_dev = x_test[:dev_size]\n",
    "    x_test = x_test[dev_size:]\n",
    "    y_dev = y_test[:dev_size]\n",
    "    y_test = y_test[dev_size:]\n",
    "    ref_dev = ref_test[:dev_size]\n",
    "    ref_test = ref_test[dev_size:]\n",
    "\n",
    "    return x_test, x_dev, y_test, y_dev, ref_test, ref_dev, dev_size, test_size - dev_size\n"
   ]
  },
  {
   "cell_type": "code",
   "execution_count": 36,
   "metadata": {},
   "outputs": [],
   "source": [
    "class TensorizedReadDataset(torch.utils.data.DataLoader):\n",
    "    'Characterizes a Tensorized dataset for genome reads in PyTorch'\n",
    "    \n",
    "    def __init__(self, reads, ref_locs, labels, read_length=100, genome_start=0, genome_end=0):\n",
    "#         super(TensorizedReadDataset, self).__init__()\n",
    "        \n",
    "        self.read_length = read_length\n",
    "        self.labels = labels\n",
    "        self.reads = reads\n",
    "        self.ref_locs = ref_locs\n",
    "        self.genome_start = genome_start\n",
    "        self.genome_end = genome_end\n",
    "\n",
    "    def __len__(self):\n",
    "        return len(self.reads)\n",
    "\n",
    "    def __getitem__(self, index):\n",
    "        \n",
    "        vals = list(self.reads[index])[0:self.read_length]        \n",
    "        locs = list(np.arange(self.ref_locs[index]-self.genome_start,self.ref_locs[index]+self.read_length-self.genome_start))\n",
    "\n",
    "#         print(len(vals))\n",
    "#         print(len(locs))\n",
    "        \n",
    "        vals2idx = {'N': 0, 'A': 1, 'C': 2, 'T': 3, 'G': 4}\n",
    "#         read = torch.LongTensor(np.array([vals2idx[val]+loc*len(vals2idx) for val, loc in zip(vals, locs)], dtype=int), requires_grad=False)\n",
    "\n",
    "        read = torch.autograd.Variable(torch.LongTensor(np.array([vals2idx[val]+loc*len(vals2idx) for val, loc in zip(vals, locs)], dtype=int)), requires_grad=False)\n",
    "        \n",
    "        X = read\n",
    "        Y = self.labels[index,:]\n",
    "\n",
    "#         torch.LongTensor(self.labels[index,:])\n",
    "\n",
    "        return X, Y\n",
    "    "
   ]
  },
  {
   "cell_type": "code",
   "execution_count": 37,
   "metadata": {},
   "outputs": [],
   "source": [
    "class SequenceAttentionClassifier(nn.Module):\n",
    "    \n",
    "    def __init__(self, genome_length, vocab_size=5, query_size=10, embedding_size=128, num_classes=2):\n",
    "        \n",
    "        super(SequenceAttentionClassifier, self).__init__()\n",
    "        \n",
    "        self.genome_length = genome_length\n",
    "        self.vocab_size = vocab_size\n",
    "        self.query_size = query_size\n",
    "        self.embedding_size = embedding_size\n",
    "        self.num_classes = num_classes\n",
    "        self.K = nn.Embedding(vocab_size*genome_length, embedding_size)\n",
    "        self.V = nn.Embedding(vocab_size*genome_length, query_size)\n",
    "        self.W = nn.Linear(query_size, num_classes)\n",
    "        self.Q = nn.Linear(embedding_size, query_size)\n",
    "        \n",
    "    def forward(self, read):\n",
    "        \n",
    "        # 'read' here should be mapped to a flattened form where X_ij = 1 maps to i*vocab_size + j\n",
    "        K_lookup = self.K(read) # Get the relevant keys\n",
    "        V_lookup = self.V(read) # Get the relevant values\n",
    "\n",
    "        # Get the attention weights\n",
    "        logits = self.Q(K_lookup) / math.sqrt(self.embedding_size)\n",
    "        probs = F.softmax(logits, dim = -1)\n",
    "        \n",
    "        # Calculate the covariates for the logistic regression\n",
    "#         X = torch.matmul(probs.transpose(1,2), V_lookup)\n",
    "#         X = probs * V_lookup\n",
    "        X = (probs * V_lookup).sum(dim=1)\n",
    "\n",
    "        # Right now we can just ignore the fact that we're doing a linear-transform.\n",
    "        # In the future we'll add nonlinearities\n",
    "\n",
    "        # Return the logits for the classifier\n",
    "        return self.W(X)\n",
    "    "
   ]
  },
  {
   "cell_type": "code",
   "execution_count": 38,
   "metadata": {},
   "outputs": [
    {
     "name": "stdout",
     "output_type": "stream",
     "text": [
      "(2439452, 2)\n",
      "(155205, 2)\n",
      "2439452\n",
      "24394\n",
      "Soft Validation size:  24394\n",
      "Training size:  2415058\n"
     ]
    }
   ],
   "source": [
    "# load data\n",
    "x_train, refs_train, y_train = load_ref_data(\"../data/ref-train-BRAF.csv\", sample_ratio=1)\n",
    "x_test, refs_test, y_test = load_ref_data(\"../data/ref-test-BRAF.csv\", sample_ratio=1)\n",
    "\n",
    "# split dataset to test and dev\n",
    "x_train, x_softval, y_train, y_softval, refs_train, refs_softval, softval_size, train_size = \\\n",
    "    split_ref_dataset(x_train, y_train, refs_train, 0.01)\n",
    "    \n",
    "print(\"Soft Validation size: \", softval_size)\n",
    "print(\"Training size: \", train_size)\n"
   ]
  },
  {
   "cell_type": "code",
   "execution_count": 39,
   "metadata": {},
   "outputs": [],
   "source": [
    "# Generators\n",
    "train_dataset = TensorizedReadDataset(reads=x_train, \n",
    "                                      ref_locs=refs_train, \n",
    "                                      labels=y_train, \n",
    "                                      read_length=READ_LENGTH, \n",
    "                                      genome_start=GENOME_START, \n",
    "                                      genome_end=GENOME_END)\n",
    "\n",
    "hardval_dataset = TensorizedReadDataset(reads=x_test, \n",
    "                                        ref_locs=refs_test, \n",
    "                                        labels=y_test, \n",
    "                                        read_length=READ_LENGTH, \n",
    "                                        genome_start=GENOME_START, \n",
    "                                        genome_end=GENOME_END)\n",
    "\n",
    "softval_dataset = TensorizedReadDataset(reads=x_softval, \n",
    "                                        ref_locs=refs_softval, \n",
    "                                        labels=y_softval, \n",
    "                                        read_length=READ_LENGTH, \n",
    "                                        genome_start=GENOME_START, \n",
    "                                        genome_end=GENOME_END)\n",
    "\n",
    "# Input pipeline\n",
    "train_loader = torch.utils.data.DataLoader(dataset=train_dataset,\n",
    "                                           batch_size=BATCH_SIZE,\n",
    "                                           shuffle=True)\n",
    "\n",
    "hardval_loader = torch.utils.data.DataLoader(dataset=hardval_dataset,\n",
    "                                             batch_size=BATCH_SIZE,\n",
    "                                             shuffle=True)\n",
    "\n",
    "softval_loader = torch.utils.data.DataLoader(dataset=softval_dataset,\n",
    "                                             batch_size=BATCH_SIZE,\n",
    "                                             shuffle=True)\n"
   ]
  },
  {
   "cell_type": "code",
   "execution_count": 41,
   "metadata": {},
   "outputs": [],
   "source": [
    "# model = AttentionLR(MAX_SEQ_LENGTH, MAX_LABEL)\n",
    "model = SequenceAttentionClassifier(genome_length=GENOME_LENGTH,\n",
    "                                    vocab_size=VOCAB_SIZE,\n",
    "                                    query_size=QUERY_SIZE,\n",
    "                                    embedding_size=EMBEDDING_SIZE,\n",
    "                                    num_classes=NUM_CLASSES)\n",
    "\n",
    "criterion = nn.CrossEntropyLoss()\n",
    "# criterion = nn.L1Loss()\n",
    "# criterion = nn.NLLLoss()\n",
    "optimizer = torch.optim.SGD(model.parameters(), lr=LEARNING_RATE)"
   ]
  },
  {
   "cell_type": "code",
   "execution_count": 42,
   "metadata": {},
   "outputs": [
    {
     "name": "stderr",
     "output_type": "stream",
     "text": [
      "/anaconda3/envs/mlenv/lib/python3.6/site-packages/ipykernel_launcher.py:20: UserWarning: invalid index of a 0-dim tensor. This will be an error in PyTorch 0.5. Use tensor.item() to convert a 0-dim tensor to a Python number\n"
     ]
    },
    {
     "name": "stdout",
     "output_type": "stream",
     "text": [
      "Epoch 1, Batch 10, loss :0.781342089176178\n"
     ]
    },
    {
     "ename": "KeyboardInterrupt",
     "evalue": "",
     "output_type": "error",
     "traceback": [
      "\u001b[0;31m--------------------------------------\u001b[0m",
      "\u001b[0;31mKeyboardInterrupt\u001b[0mTraceback (most recent call last)",
      "\u001b[0;32m<ipython-input-42-6fa134d70e7e>\u001b[0m in \u001b[0;36m<module>\u001b[0;34m()\u001b[0m\n\u001b[1;32m     14\u001b[0m         \u001b[0mloss\u001b[0m \u001b[0;34m=\u001b[0m \u001b[0mcriterion\u001b[0m\u001b[0;34m(\u001b[0m\u001b[0moutputs\u001b[0m\u001b[0;34m,\u001b[0m \u001b[0mtorch\u001b[0m\u001b[0;34m.\u001b[0m\u001b[0mmax\u001b[0m\u001b[0;34m(\u001b[0m\u001b[0my_batch\u001b[0m\u001b[0;34m.\u001b[0m\u001b[0mtype\u001b[0m\u001b[0;34m(\u001b[0m\u001b[0mtorch\u001b[0m\u001b[0;34m.\u001b[0m\u001b[0mLongTensor\u001b[0m\u001b[0;34m)\u001b[0m\u001b[0;34m,\u001b[0m \u001b[0;36m1\u001b[0m\u001b[0;34m)\u001b[0m\u001b[0;34m[\u001b[0m\u001b[0;36m1\u001b[0m\u001b[0;34m]\u001b[0m\u001b[0;34m)\u001b[0m\u001b[0;34m\u001b[0m\u001b[0m\n\u001b[1;32m     15\u001b[0m \u001b[0;34m\u001b[0m\u001b[0m\n\u001b[0;32m---> 16\u001b[0;31m         \u001b[0mloss\u001b[0m\u001b[0;34m.\u001b[0m\u001b[0mbackward\u001b[0m\u001b[0;34m(\u001b[0m\u001b[0;34m)\u001b[0m\u001b[0;34m\u001b[0m\u001b[0m\n\u001b[0m\u001b[1;32m     17\u001b[0m         \u001b[0moptimizer\u001b[0m\u001b[0;34m.\u001b[0m\u001b[0mstep\u001b[0m\u001b[0;34m(\u001b[0m\u001b[0;34m)\u001b[0m\u001b[0;34m\u001b[0m\u001b[0m\n\u001b[1;32m     18\u001b[0m \u001b[0;34m\u001b[0m\u001b[0m\n",
      "\u001b[0;32m/anaconda3/envs/mlenv/lib/python3.6/site-packages/torch/tensor.py\u001b[0m in \u001b[0;36mbackward\u001b[0;34m(self, gradient, retain_graph, create_graph)\u001b[0m\n\u001b[1;32m     91\u001b[0m                 \u001b[0mproducts\u001b[0m\u001b[0;34m.\u001b[0m \u001b[0mDefaults\u001b[0m \u001b[0mto\u001b[0m\u001b[0;31m \u001b[0m\u001b[0;31m`\u001b[0m\u001b[0;31m`\u001b[0m\u001b[0;32mFalse\u001b[0m\u001b[0;31m`\u001b[0m\u001b[0;31m`\u001b[0m\u001b[0;34m.\u001b[0m\u001b[0;34m\u001b[0m\u001b[0m\n\u001b[1;32m     92\u001b[0m         \"\"\"\n\u001b[0;32m---> 93\u001b[0;31m         \u001b[0mtorch\u001b[0m\u001b[0;34m.\u001b[0m\u001b[0mautograd\u001b[0m\u001b[0;34m.\u001b[0m\u001b[0mbackward\u001b[0m\u001b[0;34m(\u001b[0m\u001b[0mself\u001b[0m\u001b[0;34m,\u001b[0m \u001b[0mgradient\u001b[0m\u001b[0;34m,\u001b[0m \u001b[0mretain_graph\u001b[0m\u001b[0;34m,\u001b[0m \u001b[0mcreate_graph\u001b[0m\u001b[0;34m)\u001b[0m\u001b[0;34m\u001b[0m\u001b[0m\n\u001b[0m\u001b[1;32m     94\u001b[0m \u001b[0;34m\u001b[0m\u001b[0m\n\u001b[1;32m     95\u001b[0m     \u001b[0;32mdef\u001b[0m \u001b[0mregister_hook\u001b[0m\u001b[0;34m(\u001b[0m\u001b[0mself\u001b[0m\u001b[0;34m,\u001b[0m \u001b[0mhook\u001b[0m\u001b[0;34m)\u001b[0m\u001b[0;34m:\u001b[0m\u001b[0;34m\u001b[0m\u001b[0m\n",
      "\u001b[0;32m/anaconda3/envs/mlenv/lib/python3.6/site-packages/torch/autograd/__init__.py\u001b[0m in \u001b[0;36mbackward\u001b[0;34m(tensors, grad_tensors, retain_graph, create_graph, grad_variables)\u001b[0m\n\u001b[1;32m     87\u001b[0m     Variable._execution_engine.run_backward(\n\u001b[1;32m     88\u001b[0m         \u001b[0mtensors\u001b[0m\u001b[0;34m,\u001b[0m \u001b[0mgrad_tensors\u001b[0m\u001b[0;34m,\u001b[0m \u001b[0mretain_graph\u001b[0m\u001b[0;34m,\u001b[0m \u001b[0mcreate_graph\u001b[0m\u001b[0;34m,\u001b[0m\u001b[0;34m\u001b[0m\u001b[0m\n\u001b[0;32m---> 89\u001b[0;31m         allow_unreachable=True)  # allow_unreachable flag\n\u001b[0m\u001b[1;32m     90\u001b[0m \u001b[0;34m\u001b[0m\u001b[0m\n\u001b[1;32m     91\u001b[0m \u001b[0;34m\u001b[0m\u001b[0m\n",
      "\u001b[0;31mKeyboardInterrupt\u001b[0m: "
     ]
    }
   ],
   "source": [
    "num_epochs = 1\n",
    "\n",
    "# Training process\n",
    "\n",
    "b = 0 # count batch\n",
    "for epoch in range(num_epochs):\n",
    "    for x_batch, y_batch in train_loader:\n",
    "        \n",
    "        optimizer.zero_grad()\n",
    "        \n",
    "        outputs = model(x_batch) \n",
    "        \n",
    "#         loss = criterion(outputs, y_batch) \n",
    "        loss = criterion(outputs, torch.max(y_batch.type(torch.LongTensor), 1)[1])\n",
    "\n",
    "        loss.backward()\n",
    "        optimizer.step()\n",
    "        \n",
    "        if (b + 1) % 10 == 0:\n",
    "            print(\"Epoch {}, Batch {}, loss :{}\".format(epoch + 1, b + 1, loss.data[0]))\n",
    "        b = b + 1\n",
    "            "
   ]
  },
  {
   "cell_type": "code",
   "execution_count": 30,
   "metadata": {},
   "outputs": [
    {
     "name": "stderr",
     "output_type": "stream",
     "text": [
      "/anaconda3/envs/mlenv/lib/python3.6/site-packages/torch/serialization.py:193: UserWarning: Couldn't retrieve source code for container of type SequenceAttentionClassifier. It won't be checked for correctness upon loading.\n",
      "  \"type \" + obj.__name__ + \". It won't be checked \"\n"
     ]
    }
   ],
   "source": [
    "torch.save(model, './full_model.pt')\n",
    "torch.save(model.state_dict(), './model.pth')\n"
   ]
  },
  {
   "cell_type": "code",
   "execution_count": null,
   "metadata": {},
   "outputs": [],
   "source": [
    "# model = torch.load('./full_model.pt')\n",
    "# model.load_state_dict(torch.load('./model.pth'))\n"
   ]
  },
  {
   "cell_type": "code",
   "execution_count": 28,
   "metadata": {},
   "outputs": [
    {
     "name": "stdout",
     "output_type": "stream",
     "text": [
      "Hard validation Accuracy: 36%\n",
      "Soft validation Accuracy: 50%\n"
     ]
    }
   ],
   "source": [
    "# Hard Validation process\n",
    "\n",
    "correct = 0\n",
    "total = 0\n",
    "for x_batch, y_batch in hardval_loader:\n",
    "    outputs = model(x_batch)\n",
    "    _, predicted = torch.max(outputs.data, 1)\n",
    "    total += y_batch.size(0)\n",
    "    correct += (predicted == torch.max(y_batch.type(torch.LongTensor), 1)[1]).sum()\n",
    "\n",
    "print('Hard validation Accuracy: {}%'.format(100 * correct / total))    \n",
    "\n",
    "\n",
    "# Soft Validation process\n",
    "\n",
    "correct = 0\n",
    "total = 0\n",
    "for x_batch, y_batch in softval_loader:\n",
    "    outputs = model(x_batch)\n",
    "    _, predicted = torch.max(outputs.data, 1)\n",
    "    total += y_batch.size(0)\n",
    "    correct += (predicted == torch.max(y_batch.type(torch.LongTensor), 1)[1]).sum()\n",
    "\n",
    "print('Soft validation Accuracy: {}%'.format(100 * correct / total))    \n"
   ]
  },
  {
   "cell_type": "code",
   "execution_count": 8,
   "metadata": {},
   "outputs": [],
   "source": []
  }
 ],
 "metadata": {
  "kernelspec": {
   "display_name": "Python3 (mlenv)",
   "language": "python",
   "name": "mlenv"
  },
  "language_info": {
   "codemirror_mode": {
    "name": "ipython",
    "version": 3
   },
   "file_extension": ".py",
   "mimetype": "text/x-python",
   "name": "python",
   "nbconvert_exporter": "python",
   "pygments_lexer": "ipython3",
   "version": "3.6.5"
  }
 },
 "nbformat": 4,
 "nbformat_minor": 2
}
