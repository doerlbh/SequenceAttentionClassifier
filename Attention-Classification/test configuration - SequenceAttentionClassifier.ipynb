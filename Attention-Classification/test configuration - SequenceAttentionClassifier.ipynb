{
 "cells": [
  {
   "cell_type": "markdown",
   "metadata": {},
   "source": [
    "### Notebook to configure model"
   ]
  },
  {
   "cell_type": "code",
   "execution_count": 1,
   "metadata": {},
   "outputs": [
    {
     "name": "stderr",
     "output_type": "stream",
     "text": [
      "/anaconda3/envs/mlenv/lib/python3.6/site-packages/h5py/__init__.py:36: FutureWarning: Conversion of the second argument of issubdtype from `float` to `np.floating` is deprecated. In future, it will be treated as `np.float64 == np.dtype(float).type`.\n",
      "  from ._conv import register_converters as _register_converters\n"
     ]
    }
   ],
   "source": [
    "import time\n",
    "import math\n",
    "import copy\n",
    "\n",
    "import numpy as np\n",
    "import pandas as pd\n",
    "\n",
    "import matplotlib\n",
    "import matplotlib.pyplot as plt\n",
    "\n",
    "import seaborn as sns\n",
    "sns.set_context(context=\"talk\")\n",
    "\n",
    "import torch\n",
    "import torch.nn as nn\n",
    "import tensorflow as tf\n",
    "import torch.nn.functional as F\n",
    "from torchvision import datasets\n",
    "import torchvision.transforms as transforms\n",
    "from torch.autograd import Variable\n",
    "from torch.utils import data\n"
   ]
  },
  {
   "cell_type": "code",
   "execution_count": 2,
   "metadata": {},
   "outputs": [],
   "source": [
    "# Hyperparameter\n",
    "\n",
    "QUERY_SIZE = 64\n",
    "EMBEDDING_SIZE = 128\n",
    "\n",
    "# HIDDEN_SIZE = 512\n",
    "# ATTENTION_SIZE = 64\n",
    "\n",
    "LEARNING_RATE = 1e-3\n",
    "BATCH_SIZE = 50\n",
    "\n",
    "VOCAB_SIZE = 5\n",
    "NUM_CLASSES = 2\n",
    "\n",
    "# Data-specific\n",
    "\n",
    "READ_LENGTH = 100\n",
    "\n",
    "GENOME_START = 140719327\n",
    "GENOME_END = 140924764\n",
    "\n",
    "GENOME_LENGTH = GENOME_END - GENOME_START + 1\n",
    "CONTEXT_SIZE = GENOME_LENGTH\n",
    "\n",
    "ref_names = [\"class\", \"ref\", \"sequence\"]\n"
   ]
  },
  {
   "cell_type": "code",
   "execution_count": 4,
   "metadata": {},
   "outputs": [],
   "source": [
    "def load_ref_data(file_name, sample_ratio= 1, n_class=2, names=ref_names):\n",
    "    \n",
    "    csv_file = pd.read_csv(file_name, names=ref_names)\n",
    "    shuffle_csv = csv_file.sample(frac=sample_ratio)\n",
    "    x = pd.Series(shuffle_csv[\"sequence\"])\n",
    "    ref = pd.Series(shuffle_csv[\"ref\"])\n",
    "    y = pd.Series(shuffle_csv[\"class\"])\n",
    "    y = to_one_hot(y, n_class)\n",
    "    print(y.shape)\n",
    "    return x, ref, y\n"
   ]
  },
  {
   "cell_type": "code",
   "execution_count": 5,
   "metadata": {},
   "outputs": [],
   "source": [
    "def to_one_hot(y, n_class):\n",
    "    \n",
    "    return np.eye(n_class)[y.astype(int)]\n"
   ]
  },
  {
   "cell_type": "code",
   "execution_count": 10,
   "metadata": {},
   "outputs": [],
   "source": [
    "def split_ref_dataset(x_test, y_test, ref_test, dev_ratio):\n",
    "\n",
    "    test_size = len(x_test)\n",
    "    print(test_size)\n",
    "    dev_size = (int)(test_size * dev_ratio)\n",
    "    print(dev_size)\n",
    "\n",
    "    x_dev = x_test[:dev_size]\n",
    "    x_test = x_test[dev_size:]\n",
    "    y_dev = y_test[:dev_size]\n",
    "    y_test = y_test[dev_size:]\n",
    "    ref_dev = ref_test[:dev_size]\n",
    "    ref_test = ref_test[dev_size:]\n",
    "\n",
    "    return x_test, x_dev, y_test, y_dev, ref_test, ref_dev, dev_size, test_size - dev_size\n"
   ]
  },
  {
   "cell_type": "code",
   "execution_count": 86,
   "metadata": {},
   "outputs": [],
   "source": [
    "class TensorizedReadDataset(torch.utils.data.DataLoader):\n",
    "    'Characterizes a Tensorized dataset for genome reads in PyTorch'\n",
    "    \n",
    "    def __init__(self, reads, ref_locs, labels, read_length=100, genome_start=0, genome_end=0):\n",
    "#         super(TensorizedReadDataset, self).__init__()\n",
    "        \n",
    "        self.read_length = read_length\n",
    "        self.labels = labels\n",
    "        self.reads = reads\n",
    "        self.ref_locs = ref_locs\n",
    "        self.genome_start = genome_start\n",
    "        self.genome_end = genome_end\n",
    "\n",
    "    def __len__(self):\n",
    "        return len(self.reads)\n",
    "\n",
    "    def __getitem__(self, index):\n",
    "        \n",
    "        vals = list(self.reads[index])[0:self.read_length]        \n",
    "        locs = list(np.arange(self.ref_locs[index]-self.genome_start,self.ref_locs[index]+self.read_length-self.genome_start))\n",
    "\n",
    "#         print(len(vals))\n",
    "#         print(len(locs))\n",
    "        \n",
    "        vals2idx = {'N': 0, 'A': 1, 'C': 2, 'T': 3, 'G': 4}\n",
    "#         read = torch.LongTensor(np.array([vals2idx[val]+loc*len(vals2idx) for val, loc in zip(vals, locs)], dtype=int), requires_grad=False)\n",
    "\n",
    "        read = torch.autograd.Variable(torch.LongTensor(np.array([vals2idx[val]+loc*len(vals2idx) for val, loc in zip(vals, locs)], dtype=int)), requires_grad=False)\n",
    "        \n",
    "        X = read\n",
    "        Y = torch.autograd.Variable(torch.LongTensor(self.labels[index,:]), requires_grad=False)\n",
    "\n",
    "#         torch.LongTensor(self.labels[index,:])\n",
    "\n",
    "        return X, Y\n",
    "    "
   ]
  },
  {
   "cell_type": "code",
   "execution_count": 87,
   "metadata": {},
   "outputs": [],
   "source": [
    "class SequenceAttentionClassifier(nn.Module):\n",
    "    \n",
    "    def __init__(self, genome_length, read_length=100, vocab_size=5, query_size=64, embedding_size=128, num_classes=2):\n",
    "        super(SequenceAttentionClassifier, self).__init__()\n",
    "        self.genome_length = genome_length\n",
    "        self.read_length = read_length\n",
    "        self.vocab_size = vocab_size\n",
    "        self.query_size = query_size\n",
    "        self.embedding_size = embedding_size\n",
    "        self.num_classes = num_classes\n",
    "        self.K = nn.Embedding(vocab_size*genome_length, embedding_size)\n",
    "        self.V = nn.Embedding(vocab_size*genome_length, query_size)\n",
    "        self.W = nn.Linear(query_size, num_classes)\n",
    "        self.Q = nn.Linear(embedding_size, query_size)\n",
    "        \n",
    "    def forward(self, read):\n",
    "        \n",
    "        # 'read' here should be mapped to a flattened form where X_ij = 1 maps to i*vocab_size + j\n",
    "        K_lookup = self.K(read) # Get the relevant keys\n",
    "        V_lookup = self.V(read) # Get the relevant values\n",
    "\n",
    "        # Get the attention weights\n",
    "        logits = self.Q(K_lookup) / math.sqrt(self.embedding_size)\n",
    "        probs = F.softmax(logits, dim = -1)\n",
    "                \n",
    "        # Calculate the covariates for the logistic regression\n",
    "#         X = torch.matmul(probs.transpose(1,2), V_lookup)\n",
    "#         X = probs * V_lookup\n",
    "        X = (probs * V_lookup).sum(dim=1)\n",
    "\n",
    "        # Right now we can just ignore the fact that we're doing a linear-transform.\n",
    "        # In the future we'll add nonlinearities\n",
    "\n",
    "        # Return the logits for the classifier\n",
    "        return self.W(X)\n",
    "    "
   ]
  },
  {
   "cell_type": "code",
   "execution_count": 11,
   "metadata": {},
   "outputs": [
    {
     "name": "stdout",
     "output_type": "stream",
     "text": [
      "(2439452, 2)\n",
      "(155205, 2)\n",
      "2439452\n",
      "24394\n",
      "Soft Validation size:  24394\n",
      "Training size:  2415058\n"
     ]
    }
   ],
   "source": [
    "# load data\n",
    "x_train, refs_train, y_train = load_ref_data(\"../data/ref-train-BRAF.csv\", sample_ratio=1)\n",
    "x_test, refs_test, y_test = load_ref_data(\"../data/ref-test-BRAF.csv\", sample_ratio=1)\n",
    "\n",
    "# split dataset to test and dev\n",
    "x_train, x_softval, y_train, y_softval, refs_train, refs_softval, softval_size, train_size = \\\n",
    "    split_ref_dataset(x_train, y_train, refs_train, 0.01)\n",
    "    \n",
    "print(\"Soft Validation size: \", softval_size)\n",
    "print(\"Training size: \", train_size)\n"
   ]
  },
  {
   "cell_type": "code",
   "execution_count": 88,
   "metadata": {},
   "outputs": [],
   "source": [
    "# Generators\n",
    "train_dataset = TensorizedReadDataset(reads=x_train, \n",
    "                                      ref_locs=refs_train, \n",
    "                                      labels=y_train, \n",
    "                                      read_length=READ_LENGTH, \n",
    "                                      genome_start=GENOME_START, \n",
    "                                      genome_end=GENOME_END)\n",
    "\n",
    "hardval_dataset = TensorizedReadDataset(reads=x_test, \n",
    "                                        ref_locs=refs_test, \n",
    "                                        labels=y_test, \n",
    "                                        read_length=READ_LENGTH, \n",
    "                                        genome_start=GENOME_START, \n",
    "                                        genome_end=GENOME_END)\n",
    "\n",
    "softval_dataset = TensorizedReadDataset(reads=x_softval, \n",
    "                                        ref_locs=refs_softval, \n",
    "                                        labels=y_softval, \n",
    "                                        read_length=READ_LENGTH, \n",
    "                                        genome_start=GENOME_START, \n",
    "                                        genome_end=GENOME_END)\n",
    "\n",
    "# Input pipeline\n",
    "train_loader = torch.utils.data.DataLoader(dataset=train_dataset,\n",
    "                                           batch_size=BATCH_SIZE,\n",
    "                                           shuffle=True)\n",
    "\n",
    "hardval_loader = torch.utils.data.DataLoader(dataset=hardval_dataset,\n",
    "                                             batch_size=BATCH_SIZE,\n",
    "                                             shuffle=True)\n",
    "\n",
    "softval_loader = torch.utils.data.DataLoader(dataset=softval_dataset,\n",
    "                                             batch_size=BATCH_SIZE,\n",
    "                                             shuffle=True)\n"
   ]
  },
  {
   "cell_type": "code",
   "execution_count": 89,
   "metadata": {},
   "outputs": [],
   "source": [
    "# model = AttentionLR(MAX_SEQ_LENGTH, MAX_LABEL)\n",
    "model = SequenceAttentionClassifier(genome_length=GENOME_LENGTH,\n",
    "                                    read_length=READ_LENGTH,\n",
    "                                    vocab_size=VOCAB_SIZE,\n",
    "                                    query_size=QUERY_SIZE,\n",
    "                                    embedding_size=EMBEDDING_SIZE,\n",
    "                                    num_classes=NUM_CLASSES)\n",
    "\n",
    "criterion = nn.CrossEntropyLoss()\n",
    "# criterion = nn.L1Loss()\n",
    "# criterion = nn.NLLLoss()\n",
    "optimizer = torch.optim.SGD(model.parameters(), lr=LEARNING_RATE)"
   ]
  },
  {
   "cell_type": "code",
   "execution_count": 93,
   "metadata": {},
   "outputs": [
    {
     "ename": "RuntimeError",
     "evalue": "multi-target not supported at /Users/soumith/code/builder/wheel/pytorch-src/aten/src/THNN/generic/ClassNLLCriterion.c:22",
     "output_type": "error",
     "traceback": [
      "\u001b[0;31m---------------------------------------\u001b[0m",
      "\u001b[0;31mRuntimeError\u001b[0mTraceback (most recent call last)",
      "\u001b[0;32m<ipython-input-93-4f911810a3d7>\u001b[0m in \u001b[0;36m<module>\u001b[0;34m()\u001b[0m\n\u001b[1;32m     11\u001b[0m         \u001b[0moutputs\u001b[0m \u001b[0;34m=\u001b[0m \u001b[0mmodel\u001b[0m\u001b[0;34m(\u001b[0m\u001b[0mx_batch\u001b[0m\u001b[0;34m)\u001b[0m\u001b[0;34m\u001b[0m\u001b[0m\n\u001b[1;32m     12\u001b[0m \u001b[0;34m\u001b[0m\u001b[0m\n\u001b[0;32m---> 13\u001b[0;31m         \u001b[0mloss\u001b[0m \u001b[0;34m=\u001b[0m \u001b[0mcriterion\u001b[0m\u001b[0;34m(\u001b[0m\u001b[0moutputs\u001b[0m\u001b[0;34m,\u001b[0m \u001b[0my_batch\u001b[0m\u001b[0;34m)\u001b[0m\u001b[0;34m\u001b[0m\u001b[0m\n\u001b[0m\u001b[1;32m     14\u001b[0m         \u001b[0mloss\u001b[0m\u001b[0;34m.\u001b[0m\u001b[0mbackward\u001b[0m\u001b[0;34m(\u001b[0m\u001b[0;34m)\u001b[0m\u001b[0;34m\u001b[0m\u001b[0m\n\u001b[1;32m     15\u001b[0m         \u001b[0moptimizer\u001b[0m\u001b[0;34m.\u001b[0m\u001b[0mstep\u001b[0m\u001b[0;34m(\u001b[0m\u001b[0;34m)\u001b[0m\u001b[0;34m\u001b[0m\u001b[0m\n",
      "\u001b[0;32m/anaconda3/envs/mlenv/lib/python3.6/site-packages/torch/nn/modules/module.py\u001b[0m in \u001b[0;36m__call__\u001b[0;34m(self, *input, **kwargs)\u001b[0m\n\u001b[1;32m    489\u001b[0m             \u001b[0mresult\u001b[0m \u001b[0;34m=\u001b[0m \u001b[0mself\u001b[0m\u001b[0;34m.\u001b[0m\u001b[0m_slow_forward\u001b[0m\u001b[0;34m(\u001b[0m\u001b[0;34m*\u001b[0m\u001b[0minput\u001b[0m\u001b[0;34m,\u001b[0m \u001b[0;34m**\u001b[0m\u001b[0mkwargs\u001b[0m\u001b[0;34m)\u001b[0m\u001b[0;34m\u001b[0m\u001b[0m\n\u001b[1;32m    490\u001b[0m         \u001b[0;32melse\u001b[0m\u001b[0;34m:\u001b[0m\u001b[0;34m\u001b[0m\u001b[0m\n\u001b[0;32m--> 491\u001b[0;31m             \u001b[0mresult\u001b[0m \u001b[0;34m=\u001b[0m \u001b[0mself\u001b[0m\u001b[0;34m.\u001b[0m\u001b[0mforward\u001b[0m\u001b[0;34m(\u001b[0m\u001b[0;34m*\u001b[0m\u001b[0minput\u001b[0m\u001b[0;34m,\u001b[0m \u001b[0;34m**\u001b[0m\u001b[0mkwargs\u001b[0m\u001b[0;34m)\u001b[0m\u001b[0;34m\u001b[0m\u001b[0m\n\u001b[0m\u001b[1;32m    492\u001b[0m         \u001b[0;32mfor\u001b[0m \u001b[0mhook\u001b[0m \u001b[0;32min\u001b[0m \u001b[0mself\u001b[0m\u001b[0;34m.\u001b[0m\u001b[0m_forward_hooks\u001b[0m\u001b[0;34m.\u001b[0m\u001b[0mvalues\u001b[0m\u001b[0;34m(\u001b[0m\u001b[0;34m)\u001b[0m\u001b[0;34m:\u001b[0m\u001b[0;34m\u001b[0m\u001b[0m\n\u001b[1;32m    493\u001b[0m             \u001b[0mhook_result\u001b[0m \u001b[0;34m=\u001b[0m \u001b[0mhook\u001b[0m\u001b[0;34m(\u001b[0m\u001b[0mself\u001b[0m\u001b[0;34m,\u001b[0m \u001b[0minput\u001b[0m\u001b[0;34m,\u001b[0m \u001b[0mresult\u001b[0m\u001b[0;34m)\u001b[0m\u001b[0;34m\u001b[0m\u001b[0m\n",
      "\u001b[0;32m/anaconda3/envs/mlenv/lib/python3.6/site-packages/torch/nn/modules/loss.py\u001b[0m in \u001b[0;36mforward\u001b[0;34m(self, input, target)\u001b[0m\n\u001b[1;32m    757\u001b[0m         \u001b[0m_assert_no_grad\u001b[0m\u001b[0;34m(\u001b[0m\u001b[0mtarget\u001b[0m\u001b[0;34m)\u001b[0m\u001b[0;34m\u001b[0m\u001b[0m\n\u001b[1;32m    758\u001b[0m         return F.cross_entropy(input, target, self.weight, self.size_average,\n\u001b[0;32m--> 759\u001b[0;31m                                self.ignore_index, self.reduce)\n\u001b[0m\u001b[1;32m    760\u001b[0m \u001b[0;34m\u001b[0m\u001b[0m\n\u001b[1;32m    761\u001b[0m \u001b[0;34m\u001b[0m\u001b[0m\n",
      "\u001b[0;32m/anaconda3/envs/mlenv/lib/python3.6/site-packages/torch/nn/functional.py\u001b[0m in \u001b[0;36mcross_entropy\u001b[0;34m(input, target, weight, size_average, ignore_index, reduce)\u001b[0m\n\u001b[1;32m   1440\u001b[0m         \u001b[0;34m>>\u001b[0m\u001b[0;34m>\u001b[0m \u001b[0mloss\u001b[0m\u001b[0;34m.\u001b[0m\u001b[0mbackward\u001b[0m\u001b[0;34m(\u001b[0m\u001b[0;34m)\u001b[0m\u001b[0;34m\u001b[0m\u001b[0m\n\u001b[1;32m   1441\u001b[0m     \"\"\"\n\u001b[0;32m-> 1442\u001b[0;31m     \u001b[0;32mreturn\u001b[0m \u001b[0mnll_loss\u001b[0m\u001b[0;34m(\u001b[0m\u001b[0mlog_softmax\u001b[0m\u001b[0;34m(\u001b[0m\u001b[0minput\u001b[0m\u001b[0;34m,\u001b[0m \u001b[0;36m1\u001b[0m\u001b[0;34m)\u001b[0m\u001b[0;34m,\u001b[0m \u001b[0mtarget\u001b[0m\u001b[0;34m,\u001b[0m \u001b[0mweight\u001b[0m\u001b[0;34m,\u001b[0m \u001b[0msize_average\u001b[0m\u001b[0;34m,\u001b[0m \u001b[0mignore_index\u001b[0m\u001b[0;34m,\u001b[0m \u001b[0mreduce\u001b[0m\u001b[0;34m)\u001b[0m\u001b[0;34m\u001b[0m\u001b[0m\n\u001b[0m\u001b[1;32m   1443\u001b[0m \u001b[0;34m\u001b[0m\u001b[0m\n\u001b[1;32m   1444\u001b[0m \u001b[0;34m\u001b[0m\u001b[0m\n",
      "\u001b[0;32m/anaconda3/envs/mlenv/lib/python3.6/site-packages/torch/nn/functional.py\u001b[0m in \u001b[0;36mnll_loss\u001b[0;34m(input, target, weight, size_average, ignore_index, reduce)\u001b[0m\n\u001b[1;32m   1330\u001b[0m                          .format(input.size(0), target.size(0)))\n\u001b[1;32m   1331\u001b[0m     \u001b[0;32mif\u001b[0m \u001b[0mdim\u001b[0m \u001b[0;34m==\u001b[0m \u001b[0;36m2\u001b[0m\u001b[0;34m:\u001b[0m\u001b[0;34m\u001b[0m\u001b[0m\n\u001b[0;32m-> 1332\u001b[0;31m         \u001b[0;32mreturn\u001b[0m \u001b[0mtorch\u001b[0m\u001b[0;34m.\u001b[0m\u001b[0m_C\u001b[0m\u001b[0;34m.\u001b[0m\u001b[0m_nn\u001b[0m\u001b[0;34m.\u001b[0m\u001b[0mnll_loss\u001b[0m\u001b[0;34m(\u001b[0m\u001b[0minput\u001b[0m\u001b[0;34m,\u001b[0m \u001b[0mtarget\u001b[0m\u001b[0;34m,\u001b[0m \u001b[0mweight\u001b[0m\u001b[0;34m,\u001b[0m \u001b[0msize_average\u001b[0m\u001b[0;34m,\u001b[0m \u001b[0mignore_index\u001b[0m\u001b[0;34m,\u001b[0m \u001b[0mreduce\u001b[0m\u001b[0;34m)\u001b[0m\u001b[0;34m\u001b[0m\u001b[0m\n\u001b[0m\u001b[1;32m   1333\u001b[0m     \u001b[0;32melif\u001b[0m \u001b[0mdim\u001b[0m \u001b[0;34m==\u001b[0m \u001b[0;36m4\u001b[0m\u001b[0;34m:\u001b[0m\u001b[0;34m\u001b[0m\u001b[0m\n\u001b[1;32m   1334\u001b[0m         \u001b[0;32mreturn\u001b[0m \u001b[0mtorch\u001b[0m\u001b[0;34m.\u001b[0m\u001b[0m_C\u001b[0m\u001b[0;34m.\u001b[0m\u001b[0m_nn\u001b[0m\u001b[0;34m.\u001b[0m\u001b[0mnll_loss2d\u001b[0m\u001b[0;34m(\u001b[0m\u001b[0minput\u001b[0m\u001b[0;34m,\u001b[0m \u001b[0mtarget\u001b[0m\u001b[0;34m,\u001b[0m \u001b[0mweight\u001b[0m\u001b[0;34m,\u001b[0m \u001b[0msize_average\u001b[0m\u001b[0;34m,\u001b[0m \u001b[0mignore_index\u001b[0m\u001b[0;34m,\u001b[0m \u001b[0mreduce\u001b[0m\u001b[0;34m)\u001b[0m\u001b[0;34m\u001b[0m\u001b[0m\n",
      "\u001b[0;31mRuntimeError\u001b[0m: multi-target not supported at /Users/soumith/code/builder/wheel/pytorch-src/aten/src/THNN/generic/ClassNLLCriterion.c:22"
     ]
    }
   ],
   "source": [
    "num_epochs = 1\n",
    "\n",
    "# Training process\n",
    "\n",
    "b = 0 # count batch\n",
    "for epoch in range(num_epochs):\n",
    "    for x_batch, y_batch in train_loader:\n",
    "        \n",
    "        optimizer.zero_grad()\n",
    "        \n",
    "        outputs = model(x_batch) \n",
    "        \n",
    "        loss = criterion(outputs, y_batch) \n",
    "        loss.backward()\n",
    "        optimizer.step()\n",
    "        \n",
    "        if (b + 1) % 10 == 0:\n",
    "            print(\"Epoch {}, Batch {}, loss :{}\".format(epoch + 1, b + 1, loss.data[0]))\n",
    "        b = b + 1\n",
    "            "
   ]
  },
  {
   "cell_type": "code",
   "execution_count": 27,
   "metadata": {},
   "outputs": [
    {
     "ename": "RuntimeError",
     "evalue": "Expected object of type torch.LongTensor but found type torch.ByteTensor for argument #2 'other'",
     "output_type": "error",
     "traceback": [
      "\u001b[0;31m---------------------------------------\u001b[0m",
      "\u001b[0;31mRuntimeError\u001b[0mTraceback (most recent call last)",
      "\u001b[0;32m<ipython-input-27-db7bb8f8bec6>\u001b[0m in \u001b[0;36m<module>\u001b[0;34m()\u001b[0m\n\u001b[1;32m      7\u001b[0m     \u001b[0m_\u001b[0m\u001b[0;34m,\u001b[0m \u001b[0mpredicted\u001b[0m \u001b[0;34m=\u001b[0m \u001b[0mtorch\u001b[0m\u001b[0;34m.\u001b[0m\u001b[0mmax\u001b[0m\u001b[0;34m(\u001b[0m\u001b[0moutputs\u001b[0m\u001b[0;34m.\u001b[0m\u001b[0mdata\u001b[0m\u001b[0;34m,\u001b[0m \u001b[0;36m1\u001b[0m\u001b[0;34m)\u001b[0m\u001b[0;34m\u001b[0m\u001b[0m\n\u001b[1;32m      8\u001b[0m     \u001b[0mtotal\u001b[0m \u001b[0;34m+=\u001b[0m \u001b[0my_batch\u001b[0m\u001b[0;34m.\u001b[0m\u001b[0msize\u001b[0m\u001b[0;34m(\u001b[0m\u001b[0;36m0\u001b[0m\u001b[0;34m)\u001b[0m\u001b[0;34m\u001b[0m\u001b[0m\n\u001b[0;32m----> 9\u001b[0;31m     \u001b[0mcorrect\u001b[0m \u001b[0;34m+=\u001b[0m \u001b[0;34m(\u001b[0m\u001b[0mpredicted\u001b[0m \u001b[0;34m==\u001b[0m \u001b[0;34m(\u001b[0m\u001b[0my_batch\u001b[0m\u001b[0;34m[\u001b[0m\u001b[0;34m:\u001b[0m\u001b[0;34m,\u001b[0m\u001b[0;36m1\u001b[0m\u001b[0;34m]\u001b[0m \u001b[0;34m==\u001b[0m \u001b[0;36m1\u001b[0m\u001b[0;34m)\u001b[0m\u001b[0;34m)\u001b[0m\u001b[0;34m.\u001b[0m\u001b[0msum\u001b[0m\u001b[0;34m(\u001b[0m\u001b[0;34m)\u001b[0m\u001b[0;34m\u001b[0m\u001b[0m\n\u001b[0m\u001b[1;32m     10\u001b[0m \u001b[0;34m\u001b[0m\u001b[0m\n\u001b[1;32m     11\u001b[0m \u001b[0mprint\u001b[0m\u001b[0;34m(\u001b[0m\u001b[0;34m'Hard validation Accuracy: {}%'\u001b[0m\u001b[0;34m.\u001b[0m\u001b[0mformat\u001b[0m\u001b[0;34m(\u001b[0m\u001b[0;36m100\u001b[0m \u001b[0;34m*\u001b[0m \u001b[0mcorrect\u001b[0m \u001b[0;34m/\u001b[0m \u001b[0mtotal\u001b[0m\u001b[0;34m)\u001b[0m\u001b[0;34m)\u001b[0m\u001b[0;34m\u001b[0m\u001b[0m\n",
      "\u001b[0;31mRuntimeError\u001b[0m: Expected object of type torch.LongTensor but found type torch.ByteTensor for argument #2 'other'"
     ]
    }
   ],
   "source": [
    "# Hard Validation process\n",
    "\n",
    "correct = 0\n",
    "total = 0\n",
    "for x_batch, y_batch in hardval_loader:\n",
    "    outputs = model(x_batch)\n",
    "    _, predicted = torch.max(outputs.data, 1)\n",
    "    total += y_batch.size(0)\n",
    "    correct += (predicted == (y_batch[:,1] == 1)).sum()\n",
    "\n",
    "print('Hard validation Accuracy: {}%'.format(100 * correct / total))    \n",
    "\n",
    "\n",
    "# Soft Validation process\n",
    "\n",
    "correct = 0\n",
    "total = 0\n",
    "for x_batch, y_batch in softval_loader:\n",
    "    outputs = model(x_batch)\n",
    "    _, predicted = torch.max(outputs.data, 1)\n",
    "    total += y_batch.size(0)\n",
    "    correct += (predicted == y_batch).sum()\n",
    "\n",
    "print('Soft validation Accuracy: {}%'.format(100 * correct / total))    \n"
   ]
  },
  {
   "cell_type": "code",
   "execution_count": 8,
   "metadata": {},
   "outputs": [],
   "source": []
  }
 ],
 "metadata": {
  "kernelspec": {
   "display_name": "Python3 (mlenv)",
   "language": "python",
   "name": "mlenv"
  },
  "language_info": {
   "codemirror_mode": {
    "name": "ipython",
    "version": 3
   },
   "file_extension": ".py",
   "mimetype": "text/x-python",
   "name": "python",
   "nbconvert_exporter": "python",
   "pygments_lexer": "ipython3",
   "version": "3.6.5"
  }
 },
 "nbformat": 4,
 "nbformat_minor": 2
}
